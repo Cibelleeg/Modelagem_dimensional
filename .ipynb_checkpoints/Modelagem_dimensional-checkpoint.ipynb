{
 "cells": [
  {
   "cell_type": "code",
   "execution_count": 31,
   "metadata": {
    "id": "938AmBFZ4ttw"
   },
   "outputs": [],
   "source": [
    "import pandas as pd\n",
    "import os\n",
    "import shutil"
   ]
  },
  {
   "cell_type": "code",
   "execution_count": null,
   "metadata": {},
   "outputs": [],
   "source": [
    "pip install matplotlib, seaborn"
   ]
  },
  {
   "cell_type": "code",
   "execution_count": 4,
   "metadata": {
    "colab": {
     "base_uri": "https://localhost:8080/"
    },
    "id": "6lmDePST4h6L",
    "outputId": "34f4bb3e-53a5-4b37-faff-7b2bc6243017"
   },
   "outputs": [
    {
     "name": "stdout",
     "output_type": "stream",
     "text": [
      "C:\\Users\\Cibelle Lima\\Documents\\GitHub\\Modelagem_dimensional\n",
      "C:\\Users\\Cibelle Lima\\Documents\\GitHub\\Modelagem_dimensional/Data_content\n",
      "sales_data.csv já existe na pasta C:\\Users\\Cibelle Lima\\Documents\\GitHub\\Modelagem_dimensional/Data_content\n"
     ]
    }
   ],
   "source": [
    "#Tratamento para o caminho do CSV\n",
    "local_path = os.getcwd()\n",
    "print(local_path)\n",
    "dir_path = local_path + '/Data_content'\n",
    "archive_name= 'sales_data.csv'\n",
    "archive_path = dir_path + '/' + archive_name\n",
    "upload_path = local_path + '/' + archive_name\n",
    "\n",
    "print(dir_path)\n",
    "if not os.path.exists(dir_path):\n",
    "    os.mkdir(dir_path)\n",
    "\n",
    "if not os.path.exists(archive_path):\n",
    "    if not os.path.exists(upload_path):\n",
    "      print(\"Faça upload do arquivo \" + archive_name + \" para a pasta \" + local_path)\n",
    "    else:\n",
    "      shutil.move(archive_name, archive_path)\n",
    "      print(\"Arquivo movido com sucesso!\")\n",
    "else:\n",
    "  print(archive_name + \" já existe na pasta \" + dir_path)"
   ]
  },
  {
   "cell_type": "code",
   "execution_count": 5,
   "metadata": {},
   "outputs": [
    {
     "name": "stdout",
     "output_type": "stream",
     "text": [
      "C:\\Users\\Cibelle Lima\\AppData\\Local\\Programs\\Python\\Python313\\python.exe\n"
     ]
    }
   ],
   "source": [
    "import sys\n",
    "print(sys.executable)"
   ]
  },
  {
   "cell_type": "code",
   "execution_count": 6,
   "metadata": {
    "id": "jHJsw66c6TNN"
   },
   "outputs": [],
   "source": [
    "def infos_df(df):\n",
    "    print(f\"Número de linhas: {len(df)}\")\n",
    "    print(f\"Número de colunas: {df.shape[1]}\")\n",
    "    print(\"\\nTipos de dados:\")\n",
    "    print(df.dtypes)\n",
    "    print(\"\\nPrimeiras 5 linhas:\")\n",
    "    display(df.head())"
   ]
  },
  {
   "cell_type": "code",
   "execution_count": 7,
   "metadata": {
    "colab": {
     "base_uri": "https://localhost:8080/",
     "height": 678
    },
    "id": "smk2lO6X7mjR",
    "outputId": "896b951a-263e-4329-c64d-91ec01c0f79e"
   },
   "outputs": [
    {
     "name": "stdout",
     "output_type": "stream",
     "text": [
      "50000\n",
      "Número de linhas: 50000\n",
      "Número de colunas: 12\n",
      "\n",
      "Tipos de dados:\n",
      "user_name                    object\n",
      "user_country_name            object\n",
      "user_city_name               object\n",
      "product_name                 object\n",
      "product_description          object\n",
      "product_brand                object\n",
      "product_value_in_dolars     float64\n",
      "store_name                   object\n",
      "store_country                object\n",
      "store_city                   object\n",
      "datetime_of_the_purchase     object\n",
      "buyed_amount                  int64\n",
      "dtype: object\n",
      "\n",
      "Primeiras 5 linhas:\n"
     ]
    },
    {
     "data": {
      "text/html": [
       "<div>\n",
       "<style scoped>\n",
       "    .dataframe tbody tr th:only-of-type {\n",
       "        vertical-align: middle;\n",
       "    }\n",
       "\n",
       "    .dataframe tbody tr th {\n",
       "        vertical-align: top;\n",
       "    }\n",
       "\n",
       "    .dataframe thead th {\n",
       "        text-align: right;\n",
       "    }\n",
       "</style>\n",
       "<table border=\"1\" class=\"dataframe\">\n",
       "  <thead>\n",
       "    <tr style=\"text-align: right;\">\n",
       "      <th></th>\n",
       "      <th>user_name</th>\n",
       "      <th>user_country_name</th>\n",
       "      <th>user_city_name</th>\n",
       "      <th>product_name</th>\n",
       "      <th>product_description</th>\n",
       "      <th>product_brand</th>\n",
       "      <th>product_value_in_dolars</th>\n",
       "      <th>store_name</th>\n",
       "      <th>store_country</th>\n",
       "      <th>store_city</th>\n",
       "      <th>datetime_of_the_purchase</th>\n",
       "      <th>buyed_amount</th>\n",
       "    </tr>\n",
       "  </thead>\n",
       "  <tbody>\n",
       "    <tr>\n",
       "      <th>0</th>\n",
       "      <td>Mark King</td>\n",
       "      <td>UK</td>\n",
       "      <td>Sheffield</td>\n",
       "      <td>Dryer</td>\n",
       "      <td>Electric dryer with moisture sensor</td>\n",
       "      <td>Samsung</td>\n",
       "      <td>699.99</td>\n",
       "      <td>Waitrose</td>\n",
       "      <td>UK</td>\n",
       "      <td>Brighton</td>\n",
       "      <td>2024-10-18 02:05:28.167653</td>\n",
       "      <td>4</td>\n",
       "    </tr>\n",
       "    <tr>\n",
       "      <th>1</th>\n",
       "      <td>Alice Hughes</td>\n",
       "      <td>UK</td>\n",
       "      <td>Bristol</td>\n",
       "      <td>Robot Vacuum</td>\n",
       "      <td>Smart robot vacuum with mapping technology</td>\n",
       "      <td>iRobot</td>\n",
       "      <td>299.99</td>\n",
       "      <td>Supercheap Auto</td>\n",
       "      <td>Australia</td>\n",
       "      <td>Cairns</td>\n",
       "      <td>2024-12-10 17:22:28.167694</td>\n",
       "      <td>2</td>\n",
       "    </tr>\n",
       "    <tr>\n",
       "      <th>2</th>\n",
       "      <td>Diana Hughes</td>\n",
       "      <td>UK</td>\n",
       "      <td>Leicester</td>\n",
       "      <td>Monitor</td>\n",
       "      <td>27-inch 144Hz gaming monitor</td>\n",
       "      <td>ASUS</td>\n",
       "      <td>349.99</td>\n",
       "      <td>B&amp;Q</td>\n",
       "      <td>UK</td>\n",
       "      <td>Southampton</td>\n",
       "      <td>2025-01-09 16:15:28.167712</td>\n",
       "      <td>2</td>\n",
       "    </tr>\n",
       "    <tr>\n",
       "      <th>3</th>\n",
       "      <td>Diana Hughes</td>\n",
       "      <td>USA</td>\n",
       "      <td>Cleveland</td>\n",
       "      <td>Electric Griddle</td>\n",
       "      <td>Large electric griddle with non-stick surface</td>\n",
       "      <td>Black+Decker</td>\n",
       "      <td>49.99</td>\n",
       "      <td>Lowe's</td>\n",
       "      <td>USA</td>\n",
       "      <td>Fort Worth</td>\n",
       "      <td>2024-10-25 03:02:28.167727</td>\n",
       "      <td>3</td>\n",
       "    </tr>\n",
       "    <tr>\n",
       "      <th>4</th>\n",
       "      <td>Timothy Collins</td>\n",
       "      <td>USA</td>\n",
       "      <td>Charlotte</td>\n",
       "      <td>Air Conditioner</td>\n",
       "      <td>Portable air conditioner for cooling</td>\n",
       "      <td>Honeywell</td>\n",
       "      <td>399.99</td>\n",
       "      <td>B&amp;Q</td>\n",
       "      <td>UK</td>\n",
       "      <td>Reading</td>\n",
       "      <td>2024-11-02 11:20:28.167741</td>\n",
       "      <td>1</td>\n",
       "    </tr>\n",
       "  </tbody>\n",
       "</table>\n",
       "</div>"
      ],
      "text/plain": [
       "         user_name user_country_name user_city_name      product_name  \\\n",
       "0        Mark King                UK      Sheffield             Dryer   \n",
       "1     Alice Hughes                UK        Bristol      Robot Vacuum   \n",
       "2     Diana Hughes                UK      Leicester           Monitor   \n",
       "3     Diana Hughes               USA      Cleveland  Electric Griddle   \n",
       "4  Timothy Collins               USA      Charlotte   Air Conditioner   \n",
       "\n",
       "                             product_description product_brand  \\\n",
       "0            Electric dryer with moisture sensor       Samsung   \n",
       "1     Smart robot vacuum with mapping technology        iRobot   \n",
       "2                   27-inch 144Hz gaming monitor          ASUS   \n",
       "3  Large electric griddle with non-stick surface  Black+Decker   \n",
       "4           Portable air conditioner for cooling     Honeywell   \n",
       "\n",
       "   product_value_in_dolars       store_name store_country   store_city  \\\n",
       "0                   699.99         Waitrose            UK     Brighton   \n",
       "1                   299.99  Supercheap Auto     Australia       Cairns   \n",
       "2                   349.99              B&Q            UK  Southampton   \n",
       "3                    49.99           Lowe's           USA   Fort Worth   \n",
       "4                   399.99              B&Q            UK      Reading   \n",
       "\n",
       "     datetime_of_the_purchase  buyed_amount  \n",
       "0  2024-10-18 02:05:28.167653             4  \n",
       "1  2024-12-10 17:22:28.167694             2  \n",
       "2  2025-01-09 16:15:28.167712             2  \n",
       "3  2024-10-25 03:02:28.167727             3  \n",
       "4  2024-11-02 11:20:28.167741             1  "
      ]
     },
     "metadata": {},
     "output_type": "display_data"
    }
   ],
   "source": [
    "#Infos sobre o DF Sales\n",
    "df_sales_info = pd.read_csv(archive_path)\n",
    "print(len(df_sales_info))\n",
    "infos_df(df_sales_info)"
   ]
  },
  {
   "cell_type": "code",
   "execution_count": 8,
   "metadata": {
    "colab": {
     "base_uri": "https://localhost:8080/",
     "height": 362
    },
    "id": "RucdOR0zQMY0",
    "outputId": "264f8cc3-e046-4bf6-88ba-2b7fa7026cab"
   },
   "outputs": [
    {
     "name": "stdout",
     "output_type": "stream",
     "text": [
      "Número de linhas: 54\n",
      "Número de colunas: 2\n",
      "\n",
      "Tipos de dados:\n",
      "store_name    object\n",
      "ID_Store       int64\n",
      "dtype: object\n",
      "\n",
      "Primeiras 5 linhas:\n"
     ]
    },
    {
     "data": {
      "text/html": [
       "<div>\n",
       "<style scoped>\n",
       "    .dataframe tbody tr th:only-of-type {\n",
       "        vertical-align: middle;\n",
       "    }\n",
       "\n",
       "    .dataframe tbody tr th {\n",
       "        vertical-align: top;\n",
       "    }\n",
       "\n",
       "    .dataframe thead th {\n",
       "        text-align: right;\n",
       "    }\n",
       "</style>\n",
       "<table border=\"1\" class=\"dataframe\">\n",
       "  <thead>\n",
       "    <tr style=\"text-align: right;\">\n",
       "      <th></th>\n",
       "      <th>store_name</th>\n",
       "      <th>ID_Store</th>\n",
       "    </tr>\n",
       "  </thead>\n",
       "  <tbody>\n",
       "    <tr>\n",
       "      <th>0</th>\n",
       "      <td>ASDA</td>\n",
       "      <td>1</td>\n",
       "    </tr>\n",
       "    <tr>\n",
       "      <th>1</th>\n",
       "      <td>Argos</td>\n",
       "      <td>2</td>\n",
       "    </tr>\n",
       "    <tr>\n",
       "      <th>2</th>\n",
       "      <td>B&amp;Q</td>\n",
       "      <td>3</td>\n",
       "    </tr>\n",
       "    <tr>\n",
       "      <th>3</th>\n",
       "      <td>Best Buy</td>\n",
       "      <td>4</td>\n",
       "    </tr>\n",
       "    <tr>\n",
       "      <th>4</th>\n",
       "      <td>Big W</td>\n",
       "      <td>5</td>\n",
       "    </tr>\n",
       "  </tbody>\n",
       "</table>\n",
       "</div>"
      ],
      "text/plain": [
       "  store_name  ID_Store\n",
       "0       ASDA         1\n",
       "1      Argos         2\n",
       "2        B&Q         3\n",
       "3   Best Buy         4\n",
       "4      Big W         5"
      ]
     },
     "metadata": {},
     "output_type": "display_data"
    }
   ],
   "source": [
    "#Cria as IDs das lojas\n",
    "df_store_id = df_sales_info['store_name'].drop_duplicates().reset_index(drop=True).to_frame()\n",
    "df_store_id = df_store_id.sort_values(by='store_name').reset_index(drop=True)\n",
    "df_store_id['ID_Store'] = df_store_id.index + 1\n",
    "infos_df(df_store_id)"
   ]
  },
  {
   "cell_type": "code",
   "execution_count": 9,
   "metadata": {
    "colab": {
     "base_uri": "https://localhost:8080/",
     "height": 362
    },
    "id": "G4C7MQ2JP58D",
    "outputId": "1c639f17-6971-4eae-b0e8-3b4ae3fcf96e"
   },
   "outputs": [
    {
     "name": "stdout",
     "output_type": "stream",
     "text": [
      "Número de linhas: 85\n",
      "Número de colunas: 2\n",
      "\n",
      "Tipos de dados:\n",
      "user_name    object\n",
      "ID_User       int64\n",
      "dtype: object\n",
      "\n",
      "Primeiras 5 linhas:\n"
     ]
    },
    {
     "data": {
      "text/html": [
       "<div>\n",
       "<style scoped>\n",
       "    .dataframe tbody tr th:only-of-type {\n",
       "        vertical-align: middle;\n",
       "    }\n",
       "\n",
       "    .dataframe tbody tr th {\n",
       "        vertical-align: top;\n",
       "    }\n",
       "\n",
       "    .dataframe thead th {\n",
       "        text-align: right;\n",
       "    }\n",
       "</style>\n",
       "<table border=\"1\" class=\"dataframe\">\n",
       "  <thead>\n",
       "    <tr style=\"text-align: right;\">\n",
       "      <th></th>\n",
       "      <th>user_name</th>\n",
       "      <th>ID_User</th>\n",
       "    </tr>\n",
       "  </thead>\n",
       "  <tbody>\n",
       "    <tr>\n",
       "      <th>0</th>\n",
       "      <td>Alice Hughes</td>\n",
       "      <td>1</td>\n",
       "    </tr>\n",
       "    <tr>\n",
       "      <th>1</th>\n",
       "      <td>Alice Johnson</td>\n",
       "      <td>2</td>\n",
       "    </tr>\n",
       "    <tr>\n",
       "      <th>2</th>\n",
       "      <td>Andrew Carter</td>\n",
       "      <td>3</td>\n",
       "    </tr>\n",
       "    <tr>\n",
       "      <th>3</th>\n",
       "      <td>Angela Murphy</td>\n",
       "      <td>4</td>\n",
       "    </tr>\n",
       "    <tr>\n",
       "      <th>4</th>\n",
       "      <td>Angela Phillips</td>\n",
       "      <td>5</td>\n",
       "    </tr>\n",
       "  </tbody>\n",
       "</table>\n",
       "</div>"
      ],
      "text/plain": [
       "         user_name  ID_User\n",
       "0     Alice Hughes        1\n",
       "1    Alice Johnson        2\n",
       "2    Andrew Carter        3\n",
       "3    Angela Murphy        4\n",
       "4  Angela Phillips        5"
      ]
     },
     "metadata": {},
     "output_type": "display_data"
    }
   ],
   "source": [
    "#Cria as IDs de usuário\n",
    "df_user_id = df_sales_info['user_name'].drop_duplicates().reset_index(drop=True).to_frame()\n",
    "df_user_id = df_user_id.sort_values(by='user_name').reset_index(drop=True)\n",
    "df_user_id['ID_User'] = df_user_id.index + 1\n",
    "infos_df(df_user_id)"
   ]
  },
  {
   "cell_type": "code",
   "execution_count": 10,
   "metadata": {
    "colab": {
     "base_uri": "https://localhost:8080/",
     "height": 362
    },
    "id": "72h9HTVPM2PR",
    "outputId": "2415892f-cc9a-4206-8506-94f43a45c22f"
   },
   "outputs": [
    {
     "name": "stdout",
     "output_type": "stream",
     "text": [
      "Número de linhas: 85\n",
      "Número de colunas: 2\n",
      "\n",
      "Tipos de dados:\n",
      "product_name    object\n",
      "ID_Product       int64\n",
      "dtype: object\n",
      "\n",
      "Primeiras 5 linhas:\n"
     ]
    },
    {
     "data": {
      "text/html": [
       "<div>\n",
       "<style scoped>\n",
       "    .dataframe tbody tr th:only-of-type {\n",
       "        vertical-align: middle;\n",
       "    }\n",
       "\n",
       "    .dataframe tbody tr th {\n",
       "        vertical-align: top;\n",
       "    }\n",
       "\n",
       "    .dataframe thead th {\n",
       "        text-align: right;\n",
       "    }\n",
       "</style>\n",
       "<table border=\"1\" class=\"dataframe\">\n",
       "  <thead>\n",
       "    <tr style=\"text-align: right;\">\n",
       "      <th></th>\n",
       "      <th>product_name</th>\n",
       "      <th>ID_Product</th>\n",
       "    </tr>\n",
       "  </thead>\n",
       "  <tbody>\n",
       "    <tr>\n",
       "      <th>0</th>\n",
       "      <td>Action Camera</td>\n",
       "      <td>1</td>\n",
       "    </tr>\n",
       "    <tr>\n",
       "      <th>1</th>\n",
       "      <td>Air Conditioner</td>\n",
       "      <td>2</td>\n",
       "    </tr>\n",
       "    <tr>\n",
       "      <th>2</th>\n",
       "      <td>Air Purifier</td>\n",
       "      <td>3</td>\n",
       "    </tr>\n",
       "    <tr>\n",
       "      <th>3</th>\n",
       "      <td>Baking Sheet</td>\n",
       "      <td>4</td>\n",
       "    </tr>\n",
       "    <tr>\n",
       "      <th>4</th>\n",
       "      <td>Basting Brush</td>\n",
       "      <td>5</td>\n",
       "    </tr>\n",
       "  </tbody>\n",
       "</table>\n",
       "</div>"
      ],
      "text/plain": [
       "      product_name  ID_Product\n",
       "0    Action Camera           1\n",
       "1  Air Conditioner           2\n",
       "2     Air Purifier           3\n",
       "3     Baking Sheet           4\n",
       "4    Basting Brush           5"
      ]
     },
     "metadata": {},
     "output_type": "display_data"
    }
   ],
   "source": [
    "#Cria as IDs de produtos\n",
    "df_product_id = df_sales_info['product_name'].drop_duplicates().reset_index(drop=True).to_frame()\n",
    "df_product_id = df_product_id.sort_values(by='product_name').reset_index(drop=True)\n",
    "df_product_id['ID_Product'] = df_product_id.index + 1\n",
    "infos_df(df_product_id)"
   ]
  },
  {
   "cell_type": "code",
   "execution_count": 11,
   "metadata": {
    "colab": {
     "base_uri": "https://localhost:8080/",
     "height": 362
    },
    "id": "OGNlc7iXNFg9",
    "outputId": "fb8383d0-490a-4d5e-be1a-66ffc54940cd"
   },
   "outputs": [
    {
     "name": "stdout",
     "output_type": "stream",
     "text": [
      "Número de linhas: 64\n",
      "Número de colunas: 2\n",
      "\n",
      "Tipos de dados:\n",
      "product_brand    object\n",
      "ID_Brand          int64\n",
      "dtype: object\n",
      "\n",
      "Primeiras 5 linhas:\n"
     ]
    },
    {
     "data": {
      "text/html": [
       "<div>\n",
       "<style scoped>\n",
       "    .dataframe tbody tr th:only-of-type {\n",
       "        vertical-align: middle;\n",
       "    }\n",
       "\n",
       "    .dataframe tbody tr th {\n",
       "        vertical-align: top;\n",
       "    }\n",
       "\n",
       "    .dataframe thead th {\n",
       "        text-align: right;\n",
       "    }\n",
       "</style>\n",
       "<table border=\"1\" class=\"dataframe\">\n",
       "  <thead>\n",
       "    <tr style=\"text-align: right;\">\n",
       "      <th></th>\n",
       "      <th>product_brand</th>\n",
       "      <th>ID_Brand</th>\n",
       "    </tr>\n",
       "  </thead>\n",
       "  <tbody>\n",
       "    <tr>\n",
       "      <th>0</th>\n",
       "      <td>ASUS</td>\n",
       "      <td>1</td>\n",
       "    </tr>\n",
       "    <tr>\n",
       "      <th>1</th>\n",
       "      <td>Amazon</td>\n",
       "      <td>2</td>\n",
       "    </tr>\n",
       "    <tr>\n",
       "      <th>2</th>\n",
       "      <td>AmazonBasics</td>\n",
       "      <td>3</td>\n",
       "    </tr>\n",
       "    <tr>\n",
       "      <th>3</th>\n",
       "      <td>Anova</td>\n",
       "      <td>4</td>\n",
       "    </tr>\n",
       "    <tr>\n",
       "      <th>4</th>\n",
       "      <td>Apple</td>\n",
       "      <td>5</td>\n",
       "    </tr>\n",
       "  </tbody>\n",
       "</table>\n",
       "</div>"
      ],
      "text/plain": [
       "  product_brand  ID_Brand\n",
       "0          ASUS         1\n",
       "1        Amazon         2\n",
       "2  AmazonBasics         3\n",
       "3         Anova         4\n",
       "4         Apple         5"
      ]
     },
     "metadata": {},
     "output_type": "display_data"
    }
   ],
   "source": [
    "#Cria as IDs de marcas\n",
    "df_brand_id = df_sales_info['product_brand'].drop_duplicates().reset_index(drop=True).to_frame()\n",
    "df_brand_id = df_brand_id.sort_values(by='product_brand').reset_index(drop=True)\n",
    "df_brand_id['ID_Brand'] = df_brand_id.index + 1\n",
    "infos_df(df_brand_id)"
   ]
  },
  {
   "cell_type": "code",
   "execution_count": 12,
   "metadata": {
    "colab": {
     "base_uri": "https://localhost:8080/",
     "height": 331
    },
    "id": "FOiZXYg07_5U",
    "outputId": "1eb43761-795c-43dc-9c58-7625e8f3499b"
   },
   "outputs": [
    {
     "name": "stdout",
     "output_type": "stream",
     "text": [
      "Número de linhas: 4\n",
      "Número de colunas: 2\n",
      "\n",
      "Tipos de dados:\n",
      "Country_name    object\n",
      "ID_Country       int64\n",
      "dtype: object\n",
      "\n",
      "Primeiras 5 linhas:\n"
     ]
    },
    {
     "data": {
      "text/html": [
       "<div>\n",
       "<style scoped>\n",
       "    .dataframe tbody tr th:only-of-type {\n",
       "        vertical-align: middle;\n",
       "    }\n",
       "\n",
       "    .dataframe tbody tr th {\n",
       "        vertical-align: top;\n",
       "    }\n",
       "\n",
       "    .dataframe thead th {\n",
       "        text-align: right;\n",
       "    }\n",
       "</style>\n",
       "<table border=\"1\" class=\"dataframe\">\n",
       "  <thead>\n",
       "    <tr style=\"text-align: right;\">\n",
       "      <th></th>\n",
       "      <th>Country_name</th>\n",
       "      <th>ID_Country</th>\n",
       "    </tr>\n",
       "  </thead>\n",
       "  <tbody>\n",
       "    <tr>\n",
       "      <th>0</th>\n",
       "      <td>Australia</td>\n",
       "      <td>1</td>\n",
       "    </tr>\n",
       "    <tr>\n",
       "      <th>1</th>\n",
       "      <td>Canada</td>\n",
       "      <td>2</td>\n",
       "    </tr>\n",
       "    <tr>\n",
       "      <th>2</th>\n",
       "      <td>UK</td>\n",
       "      <td>3</td>\n",
       "    </tr>\n",
       "    <tr>\n",
       "      <th>3</th>\n",
       "      <td>USA</td>\n",
       "      <td>4</td>\n",
       "    </tr>\n",
       "  </tbody>\n",
       "</table>\n",
       "</div>"
      ],
      "text/plain": [
       "  Country_name  ID_Country\n",
       "0    Australia           1\n",
       "1       Canada           2\n",
       "2           UK           3\n",
       "3          USA           4"
      ]
     },
     "metadata": {},
     "output_type": "display_data"
    }
   ],
   "source": [
    "#Cria as IDs de país\n",
    "df_country_id = df_sales_info['user_country_name'].drop_duplicates().reset_index(drop=True).to_frame()\n",
    "df_country_id = df_country_id.sort_values(by='user_country_name').reset_index(drop=True)\n",
    "df_country_id['ID_Country'] = df_country_id.index + 1\n",
    "df_country_id = df_country_id.rename(columns={'user_country_name': 'Country_name'})\n",
    "df_country_id.head()\n",
    "infos_df(df_country_id)"
   ]
  },
  {
   "cell_type": "code",
   "execution_count": 13,
   "metadata": {
    "colab": {
     "base_uri": "https://localhost:8080/",
     "height": 206
    },
    "id": "hSjLlU5I-E8c",
    "outputId": "e3db98a5-3fc2-4b34-ca0a-086bfcea152f"
   },
   "outputs": [
    {
     "data": {
      "text/html": [
       "<div>\n",
       "<style scoped>\n",
       "    .dataframe tbody tr th:only-of-type {\n",
       "        vertical-align: middle;\n",
       "    }\n",
       "\n",
       "    .dataframe tbody tr th {\n",
       "        vertical-align: top;\n",
       "    }\n",
       "\n",
       "    .dataframe thead th {\n",
       "        text-align: right;\n",
       "    }\n",
       "</style>\n",
       "<table border=\"1\" class=\"dataframe\">\n",
       "  <thead>\n",
       "    <tr style=\"text-align: right;\">\n",
       "      <th></th>\n",
       "      <th>Country_name</th>\n",
       "      <th>City_name</th>\n",
       "      <th>ID_City</th>\n",
       "    </tr>\n",
       "  </thead>\n",
       "  <tbody>\n",
       "    <tr>\n",
       "      <th>0</th>\n",
       "      <td>Australia</td>\n",
       "      <td>Adelaide</td>\n",
       "      <td>1</td>\n",
       "    </tr>\n",
       "    <tr>\n",
       "      <th>1</th>\n",
       "      <td>Australia</td>\n",
       "      <td>Ballarat</td>\n",
       "      <td>2</td>\n",
       "    </tr>\n",
       "    <tr>\n",
       "      <th>2</th>\n",
       "      <td>Australia</td>\n",
       "      <td>Brisbane</td>\n",
       "      <td>3</td>\n",
       "    </tr>\n",
       "    <tr>\n",
       "      <th>3</th>\n",
       "      <td>Australia</td>\n",
       "      <td>Cairns</td>\n",
       "      <td>4</td>\n",
       "    </tr>\n",
       "    <tr>\n",
       "      <th>4</th>\n",
       "      <td>Australia</td>\n",
       "      <td>Canberra</td>\n",
       "      <td>5</td>\n",
       "    </tr>\n",
       "  </tbody>\n",
       "</table>\n",
       "</div>"
      ],
      "text/plain": [
       "  Country_name City_name  ID_City\n",
       "0    Australia  Adelaide        1\n",
       "1    Australia  Ballarat        2\n",
       "2    Australia  Brisbane        3\n",
       "3    Australia    Cairns        4\n",
       "4    Australia  Canberra        5"
      ]
     },
     "execution_count": 13,
     "metadata": {},
     "output_type": "execute_result"
    }
   ],
   "source": [
    "#Cria as IDs de Cidades\n",
    "df_local_id = df_sales_info.groupby(['user_country_name', 'user_city_name']).size().reset_index()\n",
    "df_local_id['ID'] = df_local_id.index + 1\n",
    "df_local_id = df_local_id.rename(columns={'ID': 'ID_City', 'user_country_name': 'Country_name', 'user_city_name': 'City_name'}).drop(columns=[0])\n",
    "df_local_id.head()"
   ]
  },
  {
   "cell_type": "code",
   "execution_count": 14,
   "metadata": {
    "colab": {
     "base_uri": "https://localhost:8080/",
     "height": 397
    },
    "id": "ewKdmiyp_b9y",
    "outputId": "1ee735b1-e7f5-43ca-e471-29bfc2bf547a"
   },
   "outputs": [
    {
     "name": "stdout",
     "output_type": "stream",
     "text": [
      "Número de linhas: 91\n",
      "Número de colunas: 4\n",
      "\n",
      "Tipos de dados:\n",
      "Country_name    object\n",
      "ID_Country       int64\n",
      "City_name       object\n",
      "ID_City          int64\n",
      "dtype: object\n",
      "\n",
      "Primeiras 5 linhas:\n"
     ]
    },
    {
     "data": {
      "text/html": [
       "<div>\n",
       "<style scoped>\n",
       "    .dataframe tbody tr th:only-of-type {\n",
       "        vertical-align: middle;\n",
       "    }\n",
       "\n",
       "    .dataframe tbody tr th {\n",
       "        vertical-align: top;\n",
       "    }\n",
       "\n",
       "    .dataframe thead th {\n",
       "        text-align: right;\n",
       "    }\n",
       "</style>\n",
       "<table border=\"1\" class=\"dataframe\">\n",
       "  <thead>\n",
       "    <tr style=\"text-align: right;\">\n",
       "      <th></th>\n",
       "      <th>Country_name</th>\n",
       "      <th>ID_Country</th>\n",
       "      <th>City_name</th>\n",
       "      <th>ID_City</th>\n",
       "    </tr>\n",
       "  </thead>\n",
       "  <tbody>\n",
       "    <tr>\n",
       "      <th>0</th>\n",
       "      <td>Australia</td>\n",
       "      <td>1</td>\n",
       "      <td>Adelaide</td>\n",
       "      <td>1</td>\n",
       "    </tr>\n",
       "    <tr>\n",
       "      <th>1</th>\n",
       "      <td>Australia</td>\n",
       "      <td>1</td>\n",
       "      <td>Ballarat</td>\n",
       "      <td>2</td>\n",
       "    </tr>\n",
       "    <tr>\n",
       "      <th>2</th>\n",
       "      <td>Australia</td>\n",
       "      <td>1</td>\n",
       "      <td>Brisbane</td>\n",
       "      <td>3</td>\n",
       "    </tr>\n",
       "    <tr>\n",
       "      <th>3</th>\n",
       "      <td>Australia</td>\n",
       "      <td>1</td>\n",
       "      <td>Cairns</td>\n",
       "      <td>4</td>\n",
       "    </tr>\n",
       "    <tr>\n",
       "      <th>4</th>\n",
       "      <td>Australia</td>\n",
       "      <td>1</td>\n",
       "      <td>Canberra</td>\n",
       "      <td>5</td>\n",
       "    </tr>\n",
       "  </tbody>\n",
       "</table>\n",
       "</div>"
      ],
      "text/plain": [
       "  Country_name  ID_Country City_name  ID_City\n",
       "0    Australia           1  Adelaide        1\n",
       "1    Australia           1  Ballarat        2\n",
       "2    Australia           1  Brisbane        3\n",
       "3    Australia           1    Cairns        4\n",
       "4    Australia           1  Canberra        5"
      ]
     },
     "metadata": {},
     "output_type": "display_data"
    }
   ],
   "source": [
    "#DF de local completo com cidade e país\n",
    "df_local_id = df_local_id.merge(df_country_id, on='Country_name')\n",
    "df_local_id = df_local_id[['Country_name', 'ID_Country', 'City_name', 'ID_City']]\n",
    "infos_df(df_local_id)"
   ]
  },
  {
   "cell_type": "code",
   "execution_count": 15,
   "metadata": {
    "colab": {
     "base_uri": "https://localhost:8080/",
     "height": 330
    },
    "id": "HJ5uoD5rJYoE",
    "outputId": "11f7b070-fefd-4efe-d8a4-5630af4f3856"
   },
   "outputs": [
    {
     "data": {
      "text/html": [
       "<div>\n",
       "<style scoped>\n",
       "    .dataframe tbody tr th:only-of-type {\n",
       "        vertical-align: middle;\n",
       "    }\n",
       "\n",
       "    .dataframe tbody tr th {\n",
       "        vertical-align: top;\n",
       "    }\n",
       "\n",
       "    .dataframe thead th {\n",
       "        text-align: right;\n",
       "    }\n",
       "</style>\n",
       "<table border=\"1\" class=\"dataframe\">\n",
       "  <thead>\n",
       "    <tr style=\"text-align: right;\">\n",
       "      <th></th>\n",
       "      <th>user_name</th>\n",
       "      <th>user_country_name</th>\n",
       "      <th>user_city_name</th>\n",
       "      <th>product_name</th>\n",
       "      <th>product_description</th>\n",
       "      <th>product_brand</th>\n",
       "      <th>product_value_in_dolars</th>\n",
       "      <th>store_name</th>\n",
       "      <th>store_country</th>\n",
       "      <th>store_city</th>\n",
       "      <th>datetime_of_the_purchase</th>\n",
       "      <th>buyed_amount</th>\n",
       "    </tr>\n",
       "  </thead>\n",
       "  <tbody>\n",
       "    <tr>\n",
       "      <th>0</th>\n",
       "      <td>Mark King</td>\n",
       "      <td>UK</td>\n",
       "      <td>Sheffield</td>\n",
       "      <td>Dryer</td>\n",
       "      <td>Electric dryer with moisture sensor</td>\n",
       "      <td>Samsung</td>\n",
       "      <td>699.99</td>\n",
       "      <td>Waitrose</td>\n",
       "      <td>UK</td>\n",
       "      <td>Brighton</td>\n",
       "      <td>2024-10-18 02:05:28.167653</td>\n",
       "      <td>4</td>\n",
       "    </tr>\n",
       "    <tr>\n",
       "      <th>1</th>\n",
       "      <td>Alice Hughes</td>\n",
       "      <td>UK</td>\n",
       "      <td>Bristol</td>\n",
       "      <td>Robot Vacuum</td>\n",
       "      <td>Smart robot vacuum with mapping technology</td>\n",
       "      <td>iRobot</td>\n",
       "      <td>299.99</td>\n",
       "      <td>Supercheap Auto</td>\n",
       "      <td>Australia</td>\n",
       "      <td>Cairns</td>\n",
       "      <td>2024-12-10 17:22:28.167694</td>\n",
       "      <td>2</td>\n",
       "    </tr>\n",
       "    <tr>\n",
       "      <th>2</th>\n",
       "      <td>Diana Hughes</td>\n",
       "      <td>UK</td>\n",
       "      <td>Leicester</td>\n",
       "      <td>Monitor</td>\n",
       "      <td>27-inch 144Hz gaming monitor</td>\n",
       "      <td>ASUS</td>\n",
       "      <td>349.99</td>\n",
       "      <td>B&amp;Q</td>\n",
       "      <td>UK</td>\n",
       "      <td>Southampton</td>\n",
       "      <td>2025-01-09 16:15:28.167712</td>\n",
       "      <td>2</td>\n",
       "    </tr>\n",
       "    <tr>\n",
       "      <th>3</th>\n",
       "      <td>Diana Hughes</td>\n",
       "      <td>USA</td>\n",
       "      <td>Cleveland</td>\n",
       "      <td>Electric Griddle</td>\n",
       "      <td>Large electric griddle with non-stick surface</td>\n",
       "      <td>Black+Decker</td>\n",
       "      <td>49.99</td>\n",
       "      <td>Lowe's</td>\n",
       "      <td>USA</td>\n",
       "      <td>Fort Worth</td>\n",
       "      <td>2024-10-25 03:02:28.167727</td>\n",
       "      <td>3</td>\n",
       "    </tr>\n",
       "    <tr>\n",
       "      <th>4</th>\n",
       "      <td>Timothy Collins</td>\n",
       "      <td>USA</td>\n",
       "      <td>Charlotte</td>\n",
       "      <td>Air Conditioner</td>\n",
       "      <td>Portable air conditioner for cooling</td>\n",
       "      <td>Honeywell</td>\n",
       "      <td>399.99</td>\n",
       "      <td>B&amp;Q</td>\n",
       "      <td>UK</td>\n",
       "      <td>Reading</td>\n",
       "      <td>2024-11-02 11:20:28.167741</td>\n",
       "      <td>1</td>\n",
       "    </tr>\n",
       "  </tbody>\n",
       "</table>\n",
       "</div>"
      ],
      "text/plain": [
       "         user_name user_country_name user_city_name      product_name  \\\n",
       "0        Mark King                UK      Sheffield             Dryer   \n",
       "1     Alice Hughes                UK        Bristol      Robot Vacuum   \n",
       "2     Diana Hughes                UK      Leicester           Monitor   \n",
       "3     Diana Hughes               USA      Cleveland  Electric Griddle   \n",
       "4  Timothy Collins               USA      Charlotte   Air Conditioner   \n",
       "\n",
       "                             product_description product_brand  \\\n",
       "0            Electric dryer with moisture sensor       Samsung   \n",
       "1     Smart robot vacuum with mapping technology        iRobot   \n",
       "2                   27-inch 144Hz gaming monitor          ASUS   \n",
       "3  Large electric griddle with non-stick surface  Black+Decker   \n",
       "4           Portable air conditioner for cooling     Honeywell   \n",
       "\n",
       "   product_value_in_dolars       store_name store_country   store_city  \\\n",
       "0                   699.99         Waitrose            UK     Brighton   \n",
       "1                   299.99  Supercheap Auto     Australia       Cairns   \n",
       "2                   349.99              B&Q            UK  Southampton   \n",
       "3                    49.99           Lowe's           USA   Fort Worth   \n",
       "4                   399.99              B&Q            UK      Reading   \n",
       "\n",
       "     datetime_of_the_purchase  buyed_amount  \n",
       "0  2024-10-18 02:05:28.167653             4  \n",
       "1  2024-12-10 17:22:28.167694             2  \n",
       "2  2025-01-09 16:15:28.167712             2  \n",
       "3  2024-10-25 03:02:28.167727             3  \n",
       "4  2024-11-02 11:20:28.167741             1  "
      ]
     },
     "execution_count": 15,
     "metadata": {},
     "output_type": "execute_result"
    }
   ],
   "source": [
    "df_sales_info.head()"
   ]
  },
  {
   "cell_type": "code",
   "execution_count": 16,
   "metadata": {
    "colab": {
     "base_uri": "https://localhost:8080/",
     "height": 432
    },
    "id": "9MmrL3RdQmdH",
    "outputId": "94d3b446-5287-4cf7-8261-e334d30289dd"
   },
   "outputs": [
    {
     "name": "stdout",
     "output_type": "stream",
     "text": [
      "Número de linhas: 50000\n",
      "Número de colunas: 6\n",
      "\n",
      "Tipos de dados:\n",
      "ID_User                      int64\n",
      "ID_Product                   int64\n",
      "ID_Store                     int64\n",
      "ID_Country                   int64\n",
      "buyed_amount                 int64\n",
      "datetime_of_the_purchase    object\n",
      "dtype: object\n",
      "\n",
      "Primeiras 5 linhas:\n"
     ]
    },
    {
     "data": {
      "text/html": [
       "<div>\n",
       "<style scoped>\n",
       "    .dataframe tbody tr th:only-of-type {\n",
       "        vertical-align: middle;\n",
       "    }\n",
       "\n",
       "    .dataframe tbody tr th {\n",
       "        vertical-align: top;\n",
       "    }\n",
       "\n",
       "    .dataframe thead th {\n",
       "        text-align: right;\n",
       "    }\n",
       "</style>\n",
       "<table border=\"1\" class=\"dataframe\">\n",
       "  <thead>\n",
       "    <tr style=\"text-align: right;\">\n",
       "      <th></th>\n",
       "      <th>ID_User</th>\n",
       "      <th>ID_Product</th>\n",
       "      <th>ID_Store</th>\n",
       "      <th>ID_Country</th>\n",
       "      <th>buyed_amount</th>\n",
       "      <th>datetime_of_the_purchase</th>\n",
       "    </tr>\n",
       "  </thead>\n",
       "  <tbody>\n",
       "    <tr>\n",
       "      <th>0</th>\n",
       "      <td>50</td>\n",
       "      <td>18</td>\n",
       "      <td>30</td>\n",
       "      <td>4</td>\n",
       "      <td>4</td>\n",
       "      <td>2024-10-14 12:03:28.184579</td>\n",
       "    </tr>\n",
       "    <tr>\n",
       "      <th>1</th>\n",
       "      <td>64</td>\n",
       "      <td>22</td>\n",
       "      <td>9</td>\n",
       "      <td>2</td>\n",
       "      <td>1</td>\n",
       "      <td>2024-10-14 12:04:28.321426</td>\n",
       "    </tr>\n",
       "    <tr>\n",
       "      <th>2</th>\n",
       "      <td>6</td>\n",
       "      <td>4</td>\n",
       "      <td>2</td>\n",
       "      <td>3</td>\n",
       "      <td>5</td>\n",
       "      <td>2024-10-14 12:27:28.382694</td>\n",
       "    </tr>\n",
       "    <tr>\n",
       "      <th>3</th>\n",
       "      <td>59</td>\n",
       "      <td>16</td>\n",
       "      <td>40</td>\n",
       "      <td>2</td>\n",
       "      <td>3</td>\n",
       "      <td>2024-10-14 12:32:28.331652</td>\n",
       "    </tr>\n",
       "    <tr>\n",
       "      <th>4</th>\n",
       "      <td>34</td>\n",
       "      <td>3</td>\n",
       "      <td>43</td>\n",
       "      <td>2</td>\n",
       "      <td>3</td>\n",
       "      <td>2024-10-14 12:37:28.301934</td>\n",
       "    </tr>\n",
       "  </tbody>\n",
       "</table>\n",
       "</div>"
      ],
      "text/plain": [
       "   ID_User  ID_Product  ID_Store  ID_Country  buyed_amount  \\\n",
       "0       50          18        30           4             4   \n",
       "1       64          22         9           2             1   \n",
       "2        6           4         2           3             5   \n",
       "3       59          16        40           2             3   \n",
       "4       34           3        43           2             3   \n",
       "\n",
       "     datetime_of_the_purchase  \n",
       "0  2024-10-14 12:03:28.184579  \n",
       "1  2024-10-14 12:04:28.321426  \n",
       "2  2024-10-14 12:27:28.382694  \n",
       "3  2024-10-14 12:32:28.331652  \n",
       "4  2024-10-14 12:37:28.301934  "
      ]
     },
     "metadata": {},
     "output_type": "display_data"
    }
   ],
   "source": [
    "#Fact Table sales\n",
    "df_sales = df_sales_info.merge(df_store_id, on=['store_name'])\n",
    "df_sales = df_sales.merge(df_user_id, on=['user_name'])\n",
    "df_sales = df_sales.merge(df_product_id, on=['product_name'])\n",
    "df_sales = df_sales.merge(df_country_id, left_on=['store_country'], right_on=['Country_name'])\n",
    "df_sales = df_sales[['ID_User', 'ID_Product', 'ID_Store', 'ID_Country', 'buyed_amount', 'datetime_of_the_purchase']].sort_values(by='datetime_of_the_purchase').reset_index(drop=True)\n",
    "infos_df(df_sales)"
   ]
  },
  {
   "cell_type": "code",
   "execution_count": 17,
   "metadata": {
    "colab": {
     "base_uri": "https://localhost:8080/",
     "height": 414
    },
    "id": "m6BfAapVwYgb",
    "outputId": "61cca814-c4e0-405d-e10f-e34527beafd6"
   },
   "outputs": [
    {
     "name": "stdout",
     "output_type": "stream",
     "text": [
      "Número de linhas: 85\n",
      "Número de colunas: 5\n",
      "\n",
      "Tipos de dados:\n",
      "ID_Product                   int64\n",
      "product_name                object\n",
      "product_brand               object\n",
      "product_description         object\n",
      "product_value_in_dolars    float64\n",
      "dtype: object\n",
      "\n",
      "Primeiras 5 linhas:\n"
     ]
    },
    {
     "data": {
      "text/html": [
       "<div>\n",
       "<style scoped>\n",
       "    .dataframe tbody tr th:only-of-type {\n",
       "        vertical-align: middle;\n",
       "    }\n",
       "\n",
       "    .dataframe tbody tr th {\n",
       "        vertical-align: top;\n",
       "    }\n",
       "\n",
       "    .dataframe thead th {\n",
       "        text-align: right;\n",
       "    }\n",
       "</style>\n",
       "<table border=\"1\" class=\"dataframe\">\n",
       "  <thead>\n",
       "    <tr style=\"text-align: right;\">\n",
       "      <th></th>\n",
       "      <th>ID_Product</th>\n",
       "      <th>product_name</th>\n",
       "      <th>product_brand</th>\n",
       "      <th>product_description</th>\n",
       "      <th>product_value_in_dolars</th>\n",
       "    </tr>\n",
       "  </thead>\n",
       "  <tbody>\n",
       "    <tr>\n",
       "      <th>0</th>\n",
       "      <td>1</td>\n",
       "      <td>Action Camera</td>\n",
       "      <td>GoPro</td>\n",
       "      <td>Compact action camera for adventure sports</td>\n",
       "      <td>399.99</td>\n",
       "    </tr>\n",
       "    <tr>\n",
       "      <th>590</th>\n",
       "      <td>2</td>\n",
       "      <td>Air Conditioner</td>\n",
       "      <td>Honeywell</td>\n",
       "      <td>Portable air conditioner for cooling</td>\n",
       "      <td>399.99</td>\n",
       "    </tr>\n",
       "    <tr>\n",
       "      <th>1226</th>\n",
       "      <td>3</td>\n",
       "      <td>Air Purifier</td>\n",
       "      <td>Dyson</td>\n",
       "      <td>HEPA air purifier for home use</td>\n",
       "      <td>499.99</td>\n",
       "    </tr>\n",
       "    <tr>\n",
       "      <th>1829</th>\n",
       "      <td>4</td>\n",
       "      <td>Baking Sheet</td>\n",
       "      <td>Nordic Ware</td>\n",
       "      <td>Non-stick baking sheet for cookies</td>\n",
       "      <td>19.99</td>\n",
       "    </tr>\n",
       "    <tr>\n",
       "      <th>2430</th>\n",
       "      <td>5</td>\n",
       "      <td>Basting Brush</td>\n",
       "      <td>Silicone Zone</td>\n",
       "      <td>Silicone basting brush for grilling</td>\n",
       "      <td>9.99</td>\n",
       "    </tr>\n",
       "  </tbody>\n",
       "</table>\n",
       "</div>"
      ],
      "text/plain": [
       "      ID_Product     product_name  product_brand  \\\n",
       "0              1    Action Camera          GoPro   \n",
       "590            2  Air Conditioner      Honeywell   \n",
       "1226           3     Air Purifier          Dyson   \n",
       "1829           4     Baking Sheet    Nordic Ware   \n",
       "2430           5    Basting Brush  Silicone Zone   \n",
       "\n",
       "                             product_description  product_value_in_dolars  \n",
       "0     Compact action camera for adventure sports                   399.99  \n",
       "590         Portable air conditioner for cooling                   399.99  \n",
       "1226              HEPA air purifier for home use                   499.99  \n",
       "1829          Non-stick baking sheet for cookies                    19.99  \n",
       "2430         Silicone basting brush for grilling                     9.99  "
      ]
     },
     "metadata": {},
     "output_type": "display_data"
    }
   ],
   "source": [
    "#Dimension Table Product\n",
    "df_product = df_sales_info.groupby(['product_name', 'product_brand']).size().reset_index()\n",
    "df_product = df_product.merge(df_sales_info[['product_name', 'product_description', 'product_value_in_dolars']], on=['product_name'])\n",
    "df_product = df_product.merge(df_product_id, on=['product_name'])\n",
    "df_product = df_product.drop(columns=[0])\n",
    "df_product = df_product.drop_duplicates()\n",
    "df_product = df_product[['ID_Product', 'product_name', 'product_brand', 'product_description', 'product_value_in_dolars']]\n",
    "infos_df(df_product)"
   ]
  },
  {
   "cell_type": "code",
   "execution_count": 18,
   "metadata": {
    "colab": {
     "base_uri": "https://localhost:8080/",
     "height": 397
    },
    "id": "Ou23ZK8Uykdb",
    "outputId": "5c76a925-f561-4806-91ad-e49a5b07bb61"
   },
   "outputs": [
    {
     "name": "stdout",
     "output_type": "stream",
     "text": [
      "Número de linhas: 67\n",
      "Número de colunas: 4\n",
      "\n",
      "Tipos de dados:\n",
      "ID_Store       int64\n",
      "store_name    object\n",
      "ID_Country     int64\n",
      "ID_City        int64\n",
      "dtype: object\n",
      "\n",
      "Primeiras 5 linhas:\n"
     ]
    },
    {
     "data": {
      "text/html": [
       "<div>\n",
       "<style scoped>\n",
       "    .dataframe tbody tr th:only-of-type {\n",
       "        vertical-align: middle;\n",
       "    }\n",
       "\n",
       "    .dataframe tbody tr th {\n",
       "        vertical-align: top;\n",
       "    }\n",
       "\n",
       "    .dataframe thead th {\n",
       "        text-align: right;\n",
       "    }\n",
       "</style>\n",
       "<table border=\"1\" class=\"dataframe\">\n",
       "  <thead>\n",
       "    <tr style=\"text-align: right;\">\n",
       "      <th></th>\n",
       "      <th>ID_Store</th>\n",
       "      <th>store_name</th>\n",
       "      <th>ID_Country</th>\n",
       "      <th>ID_City</th>\n",
       "    </tr>\n",
       "  </thead>\n",
       "  <tbody>\n",
       "    <tr>\n",
       "      <th>0</th>\n",
       "      <td>1</td>\n",
       "      <td>ASDA</td>\n",
       "      <td>3</td>\n",
       "      <td>56</td>\n",
       "    </tr>\n",
       "    <tr>\n",
       "      <th>1</th>\n",
       "      <td>2</td>\n",
       "      <td>Argos</td>\n",
       "      <td>3</td>\n",
       "      <td>47</td>\n",
       "    </tr>\n",
       "    <tr>\n",
       "      <th>2</th>\n",
       "      <td>2</td>\n",
       "      <td>Argos</td>\n",
       "      <td>2</td>\n",
       "      <td>28</td>\n",
       "    </tr>\n",
       "    <tr>\n",
       "      <th>3</th>\n",
       "      <td>2</td>\n",
       "      <td>Argos</td>\n",
       "      <td>3</td>\n",
       "      <td>52</td>\n",
       "    </tr>\n",
       "    <tr>\n",
       "      <th>4</th>\n",
       "      <td>3</td>\n",
       "      <td>B&amp;Q</td>\n",
       "      <td>3</td>\n",
       "      <td>43</td>\n",
       "    </tr>\n",
       "  </tbody>\n",
       "</table>\n",
       "</div>"
      ],
      "text/plain": [
       "   ID_Store store_name  ID_Country  ID_City\n",
       "0         1       ASDA           3       56\n",
       "1         2      Argos           3       47\n",
       "2         2      Argos           2       28\n",
       "3         2      Argos           3       52\n",
       "4         3        B&Q           3       43"
      ]
     },
     "metadata": {},
     "output_type": "display_data"
    }
   ],
   "source": [
    "#Dimension Table Stores\n",
    "df_stores = df_sales_info.groupby(['store_name', 'store_country', 'store_city']).size().reset_index()\n",
    "df_stores = df_stores.merge(df_store_id, on=['store_name'])\n",
    "df_stores = df_stores.drop(columns=[0])\n",
    "df_stores = df_stores.merge(df_local_id, left_on=['store_city'], right_on=['City_name'])\n",
    "df_stores = df_stores[['ID_Store', 'store_name', 'ID_Country', 'ID_City']]\n",
    "infos_df(df_stores)"
   ]
  },
  {
   "cell_type": "code",
   "execution_count": 19,
   "metadata": {
    "colab": {
     "base_uri": "https://localhost:8080/",
     "height": 206
    },
    "id": "LCDUaRbYzwSW",
    "outputId": "1fe948c9-d782-4aa1-fb1a-2dffb891c9fb"
   },
   "outputs": [
    {
     "data": {
      "text/html": [
       "<div>\n",
       "<style scoped>\n",
       "    .dataframe tbody tr th:only-of-type {\n",
       "        vertical-align: middle;\n",
       "    }\n",
       "\n",
       "    .dataframe tbody tr th {\n",
       "        vertical-align: top;\n",
       "    }\n",
       "\n",
       "    .dataframe thead th {\n",
       "        text-align: right;\n",
       "    }\n",
       "</style>\n",
       "<table border=\"1\" class=\"dataframe\">\n",
       "  <thead>\n",
       "    <tr style=\"text-align: right;\">\n",
       "      <th></th>\n",
       "      <th>ID_User</th>\n",
       "      <th>user_name</th>\n",
       "      <th>ID_Country</th>\n",
       "      <th>ID_City</th>\n",
       "    </tr>\n",
       "  </thead>\n",
       "  <tbody>\n",
       "    <tr>\n",
       "      <th>0</th>\n",
       "      <td>1</td>\n",
       "      <td>Alice Hughes</td>\n",
       "      <td>1</td>\n",
       "      <td>4</td>\n",
       "    </tr>\n",
       "    <tr>\n",
       "      <th>1</th>\n",
       "      <td>1</td>\n",
       "      <td>Alice Hughes</td>\n",
       "      <td>1</td>\n",
       "      <td>19</td>\n",
       "    </tr>\n",
       "    <tr>\n",
       "      <th>2</th>\n",
       "      <td>1</td>\n",
       "      <td>Alice Hughes</td>\n",
       "      <td>2</td>\n",
       "      <td>29</td>\n",
       "    </tr>\n",
       "    <tr>\n",
       "      <th>3</th>\n",
       "      <td>1</td>\n",
       "      <td>Alice Hughes</td>\n",
       "      <td>2</td>\n",
       "      <td>33</td>\n",
       "    </tr>\n",
       "    <tr>\n",
       "      <th>4</th>\n",
       "      <td>1</td>\n",
       "      <td>Alice Hughes</td>\n",
       "      <td>3</td>\n",
       "      <td>45</td>\n",
       "    </tr>\n",
       "  </tbody>\n",
       "</table>\n",
       "</div>"
      ],
      "text/plain": [
       "   ID_User     user_name  ID_Country  ID_City\n",
       "0        1  Alice Hughes           1        4\n",
       "1        1  Alice Hughes           1       19\n",
       "2        1  Alice Hughes           2       29\n",
       "3        1  Alice Hughes           2       33\n",
       "4        1  Alice Hughes           3       45"
      ]
     },
     "execution_count": 19,
     "metadata": {},
     "output_type": "execute_result"
    }
   ],
   "source": [
    "#Dimension table users\n",
    "df_user = df_sales_info.groupby(['user_name', 'user_country_name', 'user_city_name']).size().reset_index()\n",
    "df_user = df_user.merge(df_user_id, on=['user_name'])\n",
    "df_user = df_user.merge(df_local_id, left_on=['user_country_name', 'user_city_name'], right_on=['Country_name', 'City_name'])\n",
    "df_user = df_user.drop(columns=[0])\n",
    "df_user = df_user.drop_duplicates()\n",
    "df_user = df_user[['ID_User', 'user_name', 'ID_Country', 'ID_City']]\n",
    "df_user.head()"
   ]
  },
  {
   "cell_type": "markdown",
   "metadata": {
    "id": "rIAzlqopYnFg"
   },
   "source": [
    "# Quais foram os países com maior número de vendas ?"
   ]
  },
  {
   "cell_type": "code",
   "execution_count": 20,
   "metadata": {
    "colab": {
     "base_uri": "https://localhost:8080/",
     "height": 175
    },
    "id": "_qNtDx37fQWX",
    "outputId": "e4158546-3cbc-4231-a570-525acdceb60f"
   },
   "outputs": [
    {
     "data": {
      "text/html": [
       "<div>\n",
       "<style scoped>\n",
       "    .dataframe tbody tr th:only-of-type {\n",
       "        vertical-align: middle;\n",
       "    }\n",
       "\n",
       "    .dataframe tbody tr th {\n",
       "        vertical-align: top;\n",
       "    }\n",
       "\n",
       "    .dataframe thead th {\n",
       "        text-align: right;\n",
       "    }\n",
       "</style>\n",
       "<table border=\"1\" class=\"dataframe\">\n",
       "  <thead>\n",
       "    <tr style=\"text-align: right;\">\n",
       "      <th></th>\n",
       "      <th>ID_Country</th>\n",
       "      <th>Country_name</th>\n",
       "      <th>total_sales</th>\n",
       "    </tr>\n",
       "  </thead>\n",
       "  <tbody>\n",
       "    <tr>\n",
       "      <th>0</th>\n",
       "      <td>2</td>\n",
       "      <td>Canada</td>\n",
       "      <td>39104</td>\n",
       "    </tr>\n",
       "    <tr>\n",
       "      <th>1</th>\n",
       "      <td>1</td>\n",
       "      <td>Australia</td>\n",
       "      <td>37422</td>\n",
       "    </tr>\n",
       "    <tr>\n",
       "      <th>2</th>\n",
       "      <td>4</td>\n",
       "      <td>USA</td>\n",
       "      <td>36699</td>\n",
       "    </tr>\n",
       "    <tr>\n",
       "      <th>3</th>\n",
       "      <td>3</td>\n",
       "      <td>UK</td>\n",
       "      <td>36467</td>\n",
       "    </tr>\n",
       "  </tbody>\n",
       "</table>\n",
       "</div>"
      ],
      "text/plain": [
       "   ID_Country Country_name  total_sales\n",
       "0           2       Canada        39104\n",
       "1           1    Australia        37422\n",
       "2           4          USA        36699\n",
       "3           3           UK        36467"
      ]
     },
     "execution_count": 20,
     "metadata": {},
     "output_type": "execute_result"
    }
   ],
   "source": [
    "max_sales_per_country = df_sales.groupby(['ID_Country'])['buyed_amount'].sum().reset_index()\n",
    "max_sales_per_country = max_sales_per_country.merge(df_country_id[['ID_Country', 'Country_name']], on=['ID_Country']).sort_values(by='buyed_amount', ascending=False)\n",
    "max_sales_per_country = max_sales_per_country.rename(columns={'buyed_amount': 'total_sales'}).reset_index(drop=True)\n",
    "max_sales_per_country = max_sales_per_country[['ID_Country', 'Country_name', 'total_sales']]\n",
    "max_sales_per_country"
   ]
  },
  {
   "cell_type": "markdown",
   "metadata": {
    "id": "YafJGI942y79"
   },
   "source": [
    "# Quais países tem mais lojas ?"
   ]
  },
  {
   "cell_type": "code",
   "execution_count": 21,
   "metadata": {
    "colab": {
     "base_uri": "https://localhost:8080/",
     "height": 175
    },
    "id": "4Q8mjPRV3OMy",
    "outputId": "a3a0344c-e129-46d3-a200-77e0b32de65d"
   },
   "outputs": [
    {
     "data": {
      "text/html": [
       "<div>\n",
       "<style scoped>\n",
       "    .dataframe tbody tr th:only-of-type {\n",
       "        vertical-align: middle;\n",
       "    }\n",
       "\n",
       "    .dataframe tbody tr th {\n",
       "        vertical-align: top;\n",
       "    }\n",
       "\n",
       "    .dataframe thead th {\n",
       "        text-align: right;\n",
       "    }\n",
       "</style>\n",
       "<table border=\"1\" class=\"dataframe\">\n",
       "  <thead>\n",
       "    <tr style=\"text-align: right;\">\n",
       "      <th></th>\n",
       "      <th>ID_Country</th>\n",
       "      <th>Country_name</th>\n",
       "      <th>Stores</th>\n",
       "    </tr>\n",
       "  </thead>\n",
       "  <tbody>\n",
       "    <tr>\n",
       "      <th>0</th>\n",
       "      <td>3</td>\n",
       "      <td>UK</td>\n",
       "      <td>18</td>\n",
       "    </tr>\n",
       "    <tr>\n",
       "      <th>1</th>\n",
       "      <td>1</td>\n",
       "      <td>Australia</td>\n",
       "      <td>17</td>\n",
       "    </tr>\n",
       "    <tr>\n",
       "      <th>2</th>\n",
       "      <td>4</td>\n",
       "      <td>USA</td>\n",
       "      <td>17</td>\n",
       "    </tr>\n",
       "    <tr>\n",
       "      <th>3</th>\n",
       "      <td>2</td>\n",
       "      <td>Canada</td>\n",
       "      <td>15</td>\n",
       "    </tr>\n",
       "  </tbody>\n",
       "</table>\n",
       "</div>"
      ],
      "text/plain": [
       "   ID_Country Country_name  Stores\n",
       "0           3           UK      18\n",
       "1           1    Australia      17\n",
       "2           4          USA      17\n",
       "3           2       Canada      15"
      ]
     },
     "execution_count": 21,
     "metadata": {},
     "output_type": "execute_result"
    }
   ],
   "source": [
    "max_stores_per_country = df_stores.groupby(['ID_Country'])['ID_Store'].count().reset_index()\n",
    "max_stores_per_country = max_stores_per_country.merge(df_country_id[['ID_Country', 'Country_name']], on=['ID_Country']).sort_values(by='ID_Store', ascending=False)\n",
    "max_stores_per_country = max_stores_per_country.rename(columns={'ID_Store': 'Stores'}).reset_index(drop=True)\n",
    "max_stores_per_country = max_stores_per_country[['ID_Country', 'Country_name', 'Stores']]\n",
    "max_stores_per_country"
   ]
  },
  {
   "cell_type": "markdown",
   "metadata": {
    "id": "9tzt4qFn30xV"
   },
   "source": [
    "# Quais países tiveram o maior valor total bruto de vendas ?\n"
   ]
  },
  {
   "cell_type": "code",
   "execution_count": 22,
   "metadata": {
    "colab": {
     "base_uri": "https://localhost:8080/",
     "height": 175
    },
    "id": "UhShjy014DnH",
    "outputId": "f8582efa-25b7-4a5d-b349-508aa4aa29be"
   },
   "outputs": [
    {
     "data": {
      "text/html": [
       "<div>\n",
       "<style scoped>\n",
       "    .dataframe tbody tr th:only-of-type {\n",
       "        vertical-align: middle;\n",
       "    }\n",
       "\n",
       "    .dataframe tbody tr th {\n",
       "        vertical-align: top;\n",
       "    }\n",
       "\n",
       "    .dataframe thead th {\n",
       "        text-align: right;\n",
       "    }\n",
       "</style>\n",
       "<table border=\"1\" class=\"dataframe\">\n",
       "  <thead>\n",
       "    <tr style=\"text-align: right;\">\n",
       "      <th></th>\n",
       "      <th>ID_Country</th>\n",
       "      <th>Country_name</th>\n",
       "      <th>Total_value</th>\n",
       "    </tr>\n",
       "  </thead>\n",
       "  <tbody>\n",
       "    <tr>\n",
       "      <th>1</th>\n",
       "      <td>2</td>\n",
       "      <td>Canada</td>\n",
       "      <td>7246033.97</td>\n",
       "    </tr>\n",
       "    <tr>\n",
       "      <th>0</th>\n",
       "      <td>1</td>\n",
       "      <td>Australia</td>\n",
       "      <td>6896470.25</td>\n",
       "    </tr>\n",
       "    <tr>\n",
       "      <th>3</th>\n",
       "      <td>4</td>\n",
       "      <td>USA</td>\n",
       "      <td>6860512.98</td>\n",
       "    </tr>\n",
       "    <tr>\n",
       "      <th>2</th>\n",
       "      <td>3</td>\n",
       "      <td>UK</td>\n",
       "      <td>6808784.10</td>\n",
       "    </tr>\n",
       "  </tbody>\n",
       "</table>\n",
       "</div>"
      ],
      "text/plain": [
       "   ID_Country Country_name  Total_value\n",
       "1           2       Canada   7246033.97\n",
       "0           1    Australia   6896470.25\n",
       "3           4          USA   6860512.98\n",
       "2           3           UK   6808784.10"
      ]
     },
     "execution_count": 22,
     "metadata": {},
     "output_type": "execute_result"
    }
   ],
   "source": [
    "max_value_per_country = df_sales.groupby(['ID_Country', 'ID_Product'])['buyed_amount'].sum().reset_index()\n",
    "max_value_per_country = max_value_per_country.merge(df_product[['ID_Product', 'product_value_in_dolars']], on=['ID_Product'])\n",
    "max_value_per_country['Total_value'] = max_value_per_country['buyed_amount'] * max_value_per_country['product_value_in_dolars']\n",
    "max_value_per_country = max_value_per_country.groupby(['ID_Country'])['Total_value'].sum().reset_index()\n",
    "max_value_per_country = max_value_per_country.merge(df_country_id[['ID_Country', 'Country_name']], on=['ID_Country']).sort_values(by='Total_value', ascending=False)\n",
    "max_value_per_country = max_value_per_country[['ID_Country', 'Country_name', 'Total_value']]\n",
    "max_value_per_country"
   ]
  },
  {
   "cell_type": "markdown",
   "metadata": {
    "id": "ewVx0rZ0iR4V"
   },
   "source": [
    "# Quais são as maiores lojas em número de vendas de cada país ?"
   ]
  },
  {
   "cell_type": "code",
   "execution_count": 23,
   "metadata": {
    "colab": {
     "base_uri": "https://localhost:8080/",
     "height": 175
    },
    "id": "sS_-j8X3jfOG",
    "outputId": "cc7ec9d3-9847-4235-f1c3-086cd207f474"
   },
   "outputs": [
    {
     "data": {
      "text/html": [
       "<div>\n",
       "<style scoped>\n",
       "    .dataframe tbody tr th:only-of-type {\n",
       "        vertical-align: middle;\n",
       "    }\n",
       "\n",
       "    .dataframe tbody tr th {\n",
       "        vertical-align: top;\n",
       "    }\n",
       "\n",
       "    .dataframe thead th {\n",
       "        text-align: right;\n",
       "    }\n",
       "</style>\n",
       "<table border=\"1\" class=\"dataframe\">\n",
       "  <thead>\n",
       "    <tr style=\"text-align: right;\">\n",
       "      <th></th>\n",
       "      <th>Country_name</th>\n",
       "      <th>store_name</th>\n",
       "      <th>total_sales</th>\n",
       "    </tr>\n",
       "  </thead>\n",
       "  <tbody>\n",
       "    <tr>\n",
       "      <th>5</th>\n",
       "      <td>UK</td>\n",
       "      <td>B&amp;Q</td>\n",
       "      <td>6650</td>\n",
       "    </tr>\n",
       "    <tr>\n",
       "      <th>3</th>\n",
       "      <td>Canada</td>\n",
       "      <td>Canadian Tire</td>\n",
       "      <td>6540</td>\n",
       "    </tr>\n",
       "    <tr>\n",
       "      <th>6</th>\n",
       "      <td>USA</td>\n",
       "      <td>Sears</td>\n",
       "      <td>4408</td>\n",
       "    </tr>\n",
       "    <tr>\n",
       "      <th>0</th>\n",
       "      <td>Australia</td>\n",
       "      <td>Officeworks</td>\n",
       "      <td>4365</td>\n",
       "    </tr>\n",
       "  </tbody>\n",
       "</table>\n",
       "</div>"
      ],
      "text/plain": [
       "  Country_name     store_name  total_sales\n",
       "5           UK            B&Q         6650\n",
       "3       Canada  Canadian Tire         6540\n",
       "6          USA          Sears         4408\n",
       "0    Australia    Officeworks         4365"
      ]
     },
     "execution_count": 23,
     "metadata": {},
     "output_type": "execute_result"
    }
   ],
   "source": [
    "max_sales_per_store = df_sales.groupby(['ID_Store', 'ID_Country'])['buyed_amount'].sum().reset_index()\n",
    "idx = max_sales_per_store.groupby('ID_Country')['buyed_amount'].idxmax()\n",
    "top_sales_per_country = max_sales_per_store.loc[idx].reset_index(drop=True)\n",
    "top_sales_per_country = top_sales_per_country.merge(df_stores[['ID_Store', 'store_name']], on=['ID_Store'])\n",
    "top_sales_per_country = top_sales_per_country.merge(df_country_id[['ID_Country', 'Country_name']], on=['ID_Country'])\n",
    "top_sales_per_country = top_sales_per_country[['Country_name', 'store_name', 'buyed_amount']].sort_values(by='buyed_amount', ascending=False)\n",
    "top_sales_per_country = top_sales_per_country.rename(columns={'buyed_amount': 'total_sales'}).drop_duplicates()\n",
    "top_sales_per_country"
   ]
  },
  {
   "cell_type": "markdown",
   "metadata": {
    "id": "8gNWVy3XkQA4"
   },
   "source": [
    "# Quais foram as lojas com maior valor bruto de venda ?"
   ]
  },
  {
   "cell_type": "code",
   "execution_count": 24,
   "metadata": {
    "id": "5kABnPTji2nh"
   },
   "outputs": [],
   "source": [
    "max_value_per_store = df_sales.groupby(['ID_Store', 'ID_Product', 'ID_Country'])['buyed_amount'].sum().reset_index()\n",
    "max_value_per_store = max_value_per_store.merge(df_product[['ID_Product', 'product_value_in_dolars']], on=['ID_Product'])\n",
    "max_value_per_store['Total_value'] = max_value_per_store['buyed_amount'] * max_value_per_store['product_value_in_dolars']\n",
    "max_value_per_store = max_value_per_store.groupby(['ID_Store', 'ID_Country'])['Total_value'].sum().reset_index()\n",
    "idx = max_value_per_store.groupby('ID_Country')['Total_value'].idxmax()\n",
    "max_value_per_store = max_value_per_store.loc[idx].reset_index(drop=True)"
   ]
  },
  {
   "cell_type": "code",
   "execution_count": 25,
   "metadata": {
    "colab": {
     "base_uri": "https://localhost:8080/",
     "height": 175
    },
    "id": "1yD80q-YlM4e",
    "outputId": "98b0afc7-87aa-4bff-e9db-6a0a182acddf"
   },
   "outputs": [
    {
     "data": {
      "text/html": [
       "<div>\n",
       "<style scoped>\n",
       "    .dataframe tbody tr th:only-of-type {\n",
       "        vertical-align: middle;\n",
       "    }\n",
       "\n",
       "    .dataframe tbody tr th {\n",
       "        vertical-align: top;\n",
       "    }\n",
       "\n",
       "    .dataframe thead th {\n",
       "        text-align: right;\n",
       "    }\n",
       "</style>\n",
       "<table border=\"1\" class=\"dataframe\">\n",
       "  <thead>\n",
       "    <tr style=\"text-align: right;\">\n",
       "      <th></th>\n",
       "      <th>store_name</th>\n",
       "      <th>Country_name</th>\n",
       "      <th>Total_value</th>\n",
       "    </tr>\n",
       "  </thead>\n",
       "  <tbody>\n",
       "    <tr>\n",
       "      <th>3</th>\n",
       "      <td>Canadian Tire</td>\n",
       "      <td>Canada</td>\n",
       "      <td>1255490.58</td>\n",
       "    </tr>\n",
       "    <tr>\n",
       "      <th>5</th>\n",
       "      <td>B&amp;Q</td>\n",
       "      <td>UK</td>\n",
       "      <td>1231429.16</td>\n",
       "    </tr>\n",
       "    <tr>\n",
       "      <th>6</th>\n",
       "      <td>Fry's Electronics</td>\n",
       "      <td>USA</td>\n",
       "      <td>839137.02</td>\n",
       "    </tr>\n",
       "    <tr>\n",
       "      <th>0</th>\n",
       "      <td>Kmart</td>\n",
       "      <td>Australia</td>\n",
       "      <td>796322.12</td>\n",
       "    </tr>\n",
       "  </tbody>\n",
       "</table>\n",
       "</div>"
      ],
      "text/plain": [
       "          store_name Country_name  Total_value\n",
       "3      Canadian Tire       Canada   1255490.58\n",
       "5                B&Q           UK   1231429.16\n",
       "6  Fry's Electronics          USA    839137.02\n",
       "0              Kmart    Australia    796322.12"
      ]
     },
     "execution_count": 25,
     "metadata": {},
     "output_type": "execute_result"
    }
   ],
   "source": [
    "max_value_per_store = max_value_per_store.merge(df_stores[['ID_Store', 'store_name']], on=['ID_Store'])\n",
    "max_value_per_store = max_value_per_store.merge(df_country_id[['ID_Country', 'Country_name']], on=['ID_Country'])\n",
    "max_value_per_store = max_value_per_store[['store_name', 'Country_name', 'Total_value']].sort_values(by='Total_value', ascending=False)\n",
    "max_value_per_store = max_value_per_store.drop_duplicates()\n",
    "max_value_per_store"
   ]
  },
  {
   "cell_type": "markdown",
   "metadata": {},
   "source": [
    "# Visualização de Faturamento por loja"
   ]
  },
  {
   "cell_type": "code",
   "execution_count": 26,
   "metadata": {},
   "outputs": [],
   "source": [
    "max_value_per_store_new = df_sales.groupby(['ID_Store', 'ID_Product', 'ID_Country'])['buyed_amount'].sum().reset_index()\n",
    "max_value_per_store_new = max_value_per_store_new.merge(df_product[['ID_Product', 'product_value_in_dolars']], on=['ID_Product'])\n",
    "max_value_per_store_new['Total_value'] = max_value_per_store_new['buyed_amount'] * max_value_per_store_new['product_value_in_dolars']\n",
    "max_value_per_store_new = max_value_per_store_new.groupby(['ID_Store', 'ID_Country'])['Total_value'].sum().reset_index()\n",
    "max_value_per_store_new = max_value_per_store_new.merge(df_stores[['ID_Store', 'store_name']], on=['ID_Store'])\n",
    "max_value_per_store_new = max_value_per_store_new.merge(df_country_id[['ID_Country', 'Country_name']], on=['ID_Country'])\n",
    "max_value_per_store_new = max_value_per_store_new[['store_name', 'Country_name', 'Total_value']].sort_values(by='Total_value', ascending=False)\n",
    "max_value_per_store_new = max_value_per_store_new.drop_duplicates()"
   ]
  },
  {
   "cell_type": "code",
   "execution_count": 27,
   "metadata": {},
   "outputs": [
    {
     "data": {
      "text/html": [
       "<div>\n",
       "<style scoped>\n",
       "    .dataframe tbody tr th:only-of-type {\n",
       "        vertical-align: middle;\n",
       "    }\n",
       "\n",
       "    .dataframe tbody tr th {\n",
       "        vertical-align: top;\n",
       "    }\n",
       "\n",
       "    .dataframe thead th {\n",
       "        text-align: right;\n",
       "    }\n",
       "</style>\n",
       "<table border=\"1\" class=\"dataframe\">\n",
       "  <thead>\n",
       "    <tr style=\"text-align: right;\">\n",
       "      <th></th>\n",
       "      <th>Country_name</th>\n",
       "      <th>store_name</th>\n",
       "      <th>total_sales</th>\n",
       "      <th>Total_value</th>\n",
       "    </tr>\n",
       "  </thead>\n",
       "  <tbody>\n",
       "    <tr>\n",
       "      <th>0</th>\n",
       "      <td>UK</td>\n",
       "      <td>B&amp;Q</td>\n",
       "      <td>6650</td>\n",
       "      <td>1231429.16</td>\n",
       "    </tr>\n",
       "    <tr>\n",
       "      <th>1</th>\n",
       "      <td>Canada</td>\n",
       "      <td>Canadian Tire</td>\n",
       "      <td>6540</td>\n",
       "      <td>1255490.58</td>\n",
       "    </tr>\n",
       "    <tr>\n",
       "      <th>2</th>\n",
       "      <td>USA</td>\n",
       "      <td>Sears</td>\n",
       "      <td>4408</td>\n",
       "      <td>819131.62</td>\n",
       "    </tr>\n",
       "    <tr>\n",
       "      <th>3</th>\n",
       "      <td>Australia</td>\n",
       "      <td>Officeworks</td>\n",
       "      <td>4365</td>\n",
       "      <td>783131.99</td>\n",
       "    </tr>\n",
       "  </tbody>\n",
       "</table>\n",
       "</div>"
      ],
      "text/plain": [
       "  Country_name     store_name  total_sales  Total_value\n",
       "0           UK            B&Q         6650   1231429.16\n",
       "1       Canada  Canadian Tire         6540   1255490.58\n",
       "2          USA          Sears         4408    819131.62\n",
       "3    Australia    Officeworks         4365    783131.99"
      ]
     },
     "execution_count": 27,
     "metadata": {},
     "output_type": "execute_result"
    }
   ],
   "source": [
    "top_sales_per_country_values = top_sales_per_country.merge(max_value_per_store_new, on=['store_name', 'Country_name'])\n",
    "top_sales_per_country_values"
   ]
  },
  {
   "cell_type": "code",
   "execution_count": 28,
   "metadata": {},
   "outputs": [
    {
     "ename": "NameError",
     "evalue": "name 'plt' is not defined",
     "output_type": "error",
     "traceback": [
      "\u001b[1;31m---------------------------------------------------------------------------\u001b[0m",
      "\u001b[1;31mNameError\u001b[0m                                 Traceback (most recent call last)",
      "Cell \u001b[1;32mIn[28], line 1\u001b[0m\n\u001b[1;32m----> 1\u001b[0m fig, ax1 \u001b[38;5;241m=\u001b[39m \u001b[43mplt\u001b[49m\u001b[38;5;241m.\u001b[39msubplots(figsize\u001b[38;5;241m=\u001b[39m(\u001b[38;5;241m12\u001b[39m, \u001b[38;5;241m6\u001b[39m))\n\u001b[0;32m      3\u001b[0m sns\u001b[38;5;241m.\u001b[39mbarplot(data\u001b[38;5;241m=\u001b[39mtop_sales_per_country_values, x\u001b[38;5;241m=\u001b[39m\u001b[38;5;124m'\u001b[39m\u001b[38;5;124mstore_name\u001b[39m\u001b[38;5;124m'\u001b[39m, y\u001b[38;5;241m=\u001b[39m\u001b[38;5;124m'\u001b[39m\u001b[38;5;124mtotal_sales\u001b[39m\u001b[38;5;124m'\u001b[39m, color\u001b[38;5;241m=\u001b[39m\u001b[38;5;124m'\u001b[39m\u001b[38;5;124m#007FFF\u001b[39m\u001b[38;5;124m'\u001b[39m, ax\u001b[38;5;241m=\u001b[39max1)\n\u001b[0;32m      5\u001b[0m ax2 \u001b[38;5;241m=\u001b[39m ax1\u001b[38;5;241m.\u001b[39mtwinx()\n",
      "\u001b[1;31mNameError\u001b[0m: name 'plt' is not defined"
     ]
    }
   ],
   "source": [
    "fig, ax1 = plt.subplots(figsize=(12, 6))\n",
    "\n",
    "sns.barplot(data=top_sales_per_country_values, x='store_name', y='total_sales', color='#007FFF', ax=ax1)\n",
    "\n",
    "ax2 = ax1.twinx()\n",
    "\n",
    "sns.lineplot(data=top_sales_per_country_values, x='store_name', y='Total_value', color='#FF4500', marker='o', linewidth=3, ax=ax2)\n",
    "ax1.set_xlabel('Loja')\n",
    "ax1.set_ylabel('Vendas Totais', color='#007FFF')\n",
    "ax2.set_ylabel('Lucro', color='#FF4500')\n",
    "ax2.set_ylim(0, 8)\n",
    "\n",
    "ax1.set_title('Vendas por Loja e Tendência de Lucro')\n",
    "\n",
    "ax1.grid(axis='y', linestyle='--', alpha=0.4)\n",
    "ax2.grid(False)\n",
    "\n",
    "plt.xticks(rotation=45, ha='right')\n",
    "\n",
    "plt.savefig(dir_path + \"/grafico_vendas.png\", dpi=300, bbox_inches=\"tight\")\n",
    "\n",
    "# Exibir o gráfico\n",
    "plt.show()\n"
   ]
  },
  {
   "cell_type": "code",
   "execution_count": null,
   "metadata": {},
   "outputs": [],
   "source": []
  }
 ],
 "metadata": {
  "colab": {
   "provenance": []
  },
  "kernelspec": {
   "display_name": "Python 3 (ipykernel)",
   "language": "python",
   "name": "python3"
  },
  "language_info": {
   "codemirror_mode": {
    "name": "ipython",
    "version": 3
   },
   "file_extension": ".py",
   "mimetype": "text/x-python",
   "name": "python",
   "nbconvert_exporter": "python",
   "pygments_lexer": "ipython3",
   "version": "3.13.0"
  }
 },
 "nbformat": 4,
 "nbformat_minor": 4
}
